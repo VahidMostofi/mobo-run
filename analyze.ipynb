{
 "cells": [
  {
   "cell_type": "code",
   "execution_count": 1,
   "metadata": {},
   "outputs": [],
   "source": [
    "import pandas as pd\n",
    "import numpy as np\n",
    "from os.path import expanduser\n",
    "import warnings\n",
    "warnings.filterwarnings(\"ignore\")\n",
    "import os"
   ]
  },
  {
   "cell_type": "code",
   "execution_count": 2,
   "metadata": {},
   "outputs": [
    {
     "data": {
      "text/html": [
       "<div>\n",
       "<style scoped>\n",
       "    .dataframe tbody tr th:only-of-type {\n",
       "        vertical-align: middle;\n",
       "    }\n",
       "\n",
       "    .dataframe tbody tr th {\n",
       "        vertical-align: top;\n",
       "    }\n",
       "\n",
       "    .dataframe thead th {\n",
       "        text-align: right;\n",
       "    }\n",
       "</style>\n",
       "<table border=\"1\" class=\"dataframe\">\n",
       "  <thead>\n",
       "    <tr style=\"text-align: right;\">\n",
       "      <th></th>\n",
       "      <th>system</th>\n",
       "      <th>cpu</th>\n",
       "      <th>steps</th>\n",
       "    </tr>\n",
       "  </thead>\n",
       "  <tbody>\n",
       "    <tr>\n",
       "      <th>0</th>\n",
       "      <td>system_1</td>\n",
       "      <td>141.44</td>\n",
       "      <td>3.0</td>\n",
       "    </tr>\n",
       "    <tr>\n",
       "      <th>1</th>\n",
       "      <td>system_2</td>\n",
       "      <td>224.19</td>\n",
       "      <td>3.0</td>\n",
       "    </tr>\n",
       "    <tr>\n",
       "      <th>2</th>\n",
       "      <td>system_3</td>\n",
       "      <td>162.13</td>\n",
       "      <td>3.0</td>\n",
       "    </tr>\n",
       "    <tr>\n",
       "      <th>3</th>\n",
       "      <td>system_4</td>\n",
       "      <td>162.13</td>\n",
       "      <td>3.0</td>\n",
       "    </tr>\n",
       "    <tr>\n",
       "      <th>4</th>\n",
       "      <td>system_5</td>\n",
       "      <td>127.65</td>\n",
       "      <td>3.0</td>\n",
       "    </tr>\n",
       "    <tr>\n",
       "      <th>...</th>\n",
       "      <td>...</td>\n",
       "      <td>...</td>\n",
       "      <td>...</td>\n",
       "    </tr>\n",
       "    <tr>\n",
       "      <th>239</th>\n",
       "      <td>system_296</td>\n",
       "      <td>141.44</td>\n",
       "      <td>3.0</td>\n",
       "    </tr>\n",
       "    <tr>\n",
       "      <th>240</th>\n",
       "      <td>system_297</td>\n",
       "      <td>162.13</td>\n",
       "      <td>3.0</td>\n",
       "    </tr>\n",
       "    <tr>\n",
       "      <th>241</th>\n",
       "      <td>system_298</td>\n",
       "      <td>141.44</td>\n",
       "      <td>3.0</td>\n",
       "    </tr>\n",
       "    <tr>\n",
       "      <th>242</th>\n",
       "      <td>system_299</td>\n",
       "      <td>148.13</td>\n",
       "      <td>4.0</td>\n",
       "    </tr>\n",
       "    <tr>\n",
       "      <th>243</th>\n",
       "      <td>system_300</td>\n",
       "      <td>148.34</td>\n",
       "      <td>3.0</td>\n",
       "    </tr>\n",
       "  </tbody>\n",
       "</table>\n",
       "<p>244 rows × 3 columns</p>\n",
       "</div>"
      ],
      "text/plain": [
       "         system     cpu  steps\n",
       "0      system_1  141.44    3.0\n",
       "1      system_2  224.19    3.0\n",
       "2      system_3  162.13    3.0\n",
       "3      system_4  162.13    3.0\n",
       "4      system_5  127.65    3.0\n",
       "..          ...     ...    ...\n",
       "239  system_296  141.44    3.0\n",
       "240  system_297  162.13    3.0\n",
       "241  system_298  141.44    3.0\n",
       "242  system_299  148.13    4.0\n",
       "243  system_300  148.34    3.0\n",
       "\n",
       "[244 rows x 3 columns]"
      ]
     },
     "execution_count": 2,
     "metadata": {},
     "output_type": "execute_result"
    }
   ],
   "source": [
    "temp = {\n",
    "    'system' :[],\n",
    "    'cpu': [],\n",
    "    'steps': []\n",
    "}\n",
    "home = expanduser(\"~\")\n",
    "df = pd.read_csv('./model-results-2x-not-that-late-1x-33p.csv')\n",
    "\n",
    "for system_id in range(300):\n",
    "    system_id += 1\n",
    "    system_id = str(system_id)\n",
    "    \n",
    "    core_count = df[df.approach == 'BNV2-4.0'][df.system == 'system_' + system_id].max_total_core.values[0] * 2\n",
    "    n_iter = df[df.approach == 'BNV2-4.0'][df.system == 'system_' + system_id].steps.values[0]\n",
    "    \n",
    "    if not os.path.exists('./results/'+system_id+'.txt'): continue\n",
    "    \n",
    "    with open('./results/'+system_id+'.txt') as f:\n",
    "        lines = f.read().split('\\n')\n",
    "        lines = [line for line in lines if len(line.strip()) > 0]\n",
    "        lines = [line for line in lines if 'info' not in line]\n",
    "    \n",
    "    initial_samples = 5\n",
    "    if n_iter + initial_samples > len(lines):\n",
    "        continue\n",
    "    temp['system'].append('system_' + system_id)\n",
    "#     print(system_id)\n",
    "    cpu = 1e10\n",
    "    step = 1e10\n",
    "    for iter_id, line in enumerate(lines):\n",
    "        meets = line.split(' ')[1] == 'True'\n",
    "        total = np.round(float(line.split(' ')[2]),2)\n",
    "#         print(meets, total)\n",
    "        if meets == False: \n",
    "            continue\n",
    "        \n",
    "        if cpu > total:\n",
    "#             print('updated', cpu, step)\n",
    "            cpu = total\n",
    "            step = iter_id + 1\n",
    "#     print()\n",
    "    temp['cpu'].append(cpu)\n",
    "    temp['steps'].append(step)\n",
    "df_mobo = pd.DataFrame(temp)\n",
    "df_mobo"
   ]
  },
  {
   "cell_type": "code",
   "execution_count": 4,
   "metadata": {},
   "outputs": [
    {
     "data": {
      "text/plain": [
       "('didnt find anything valid', 92)"
      ]
     },
     "execution_count": 4,
     "metadata": {},
     "output_type": "execute_result"
    }
   ],
   "source": [
    "'didnt find anything valid', df_mobo[df_mobo.cpu > 1e9].shape[0]"
   ]
  },
  {
   "cell_type": "code",
   "execution_count": 5,
   "metadata": {},
   "outputs": [],
   "source": [
    "df_mobo = df_mobo[df_mobo.cpu < 1e9]"
   ]
  },
  {
   "cell_type": "code",
   "execution_count": 6,
   "metadata": {},
   "outputs": [],
   "source": [
    "df_bnv2_4 = df[df.approach == 'BNV2-4.0']"
   ]
  },
  {
   "cell_type": "code",
   "execution_count": 7,
   "metadata": {},
   "outputs": [
    {
     "data": {
      "text/html": [
       "<div>\n",
       "<style scoped>\n",
       "    .dataframe tbody tr th:only-of-type {\n",
       "        vertical-align: middle;\n",
       "    }\n",
       "\n",
       "    .dataframe tbody tr th {\n",
       "        vertical-align: top;\n",
       "    }\n",
       "\n",
       "    .dataframe thead th {\n",
       "        text-align: right;\n",
       "    }\n",
       "</style>\n",
       "<table border=\"1\" class=\"dataframe\">\n",
       "  <thead>\n",
       "    <tr style=\"text-align: right;\">\n",
       "      <th></th>\n",
       "      <th>approach</th>\n",
       "      <th>system</th>\n",
       "      <th>steps</th>\n",
       "      <th>min_total_core</th>\n",
       "      <th>max_total_core</th>\n",
       "      <th>resources</th>\n",
       "      <th>classes</th>\n",
       "      <th>sla</th>\n",
       "    </tr>\n",
       "  </thead>\n",
       "  <tbody>\n",
       "    <tr>\n",
       "      <th>5</th>\n",
       "      <td>BNV2-4.0</td>\n",
       "      <td>system_1</td>\n",
       "      <td>8</td>\n",
       "      <td>70.8</td>\n",
       "      <td>82.0</td>\n",
       "      <td>10</td>\n",
       "      <td>12</td>\n",
       "      <td>300.0</td>\n",
       "    </tr>\n",
       "    <tr>\n",
       "      <th>13</th>\n",
       "      <td>BNV2-4.0</td>\n",
       "      <td>system_2</td>\n",
       "      <td>26</td>\n",
       "      <td>116.5</td>\n",
       "      <td>130.0</td>\n",
       "      <td>10</td>\n",
       "      <td>12</td>\n",
       "      <td>300.0</td>\n",
       "    </tr>\n",
       "    <tr>\n",
       "      <th>21</th>\n",
       "      <td>BNV2-4.0</td>\n",
       "      <td>system_3</td>\n",
       "      <td>14</td>\n",
       "      <td>85.0</td>\n",
       "      <td>94.0</td>\n",
       "      <td>10</td>\n",
       "      <td>12</td>\n",
       "      <td>300.0</td>\n",
       "    </tr>\n",
       "    <tr>\n",
       "      <th>29</th>\n",
       "      <td>BNV2-4.0</td>\n",
       "      <td>system_4</td>\n",
       "      <td>12</td>\n",
       "      <td>87.0</td>\n",
       "      <td>94.0</td>\n",
       "      <td>10</td>\n",
       "      <td>12</td>\n",
       "      <td>300.0</td>\n",
       "    </tr>\n",
       "    <tr>\n",
       "      <th>37</th>\n",
       "      <td>BNV2-4.0</td>\n",
       "      <td>system_5</td>\n",
       "      <td>10</td>\n",
       "      <td>58.8</td>\n",
       "      <td>74.0</td>\n",
       "      <td>10</td>\n",
       "      <td>12</td>\n",
       "      <td>300.0</td>\n",
       "    </tr>\n",
       "  </tbody>\n",
       "</table>\n",
       "</div>"
      ],
      "text/plain": [
       "    approach    system  steps  min_total_core  max_total_core  resources  \\\n",
       "5   BNV2-4.0  system_1      8            70.8            82.0         10   \n",
       "13  BNV2-4.0  system_2     26           116.5           130.0         10   \n",
       "21  BNV2-4.0  system_3     14            85.0            94.0         10   \n",
       "29  BNV2-4.0  system_4     12            87.0            94.0         10   \n",
       "37  BNV2-4.0  system_5     10            58.8            74.0         10   \n",
       "\n",
       "    classes    sla  \n",
       "5        12  300.0  \n",
       "13       12  300.0  \n",
       "21       12  300.0  \n",
       "29       12  300.0  \n",
       "37       12  300.0  "
      ]
     },
     "execution_count": 7,
     "metadata": {},
     "output_type": "execute_result"
    }
   ],
   "source": [
    "df_bnv2_4.head()"
   ]
  },
  {
   "cell_type": "code",
   "execution_count": 8,
   "metadata": {},
   "outputs": [
    {
     "data": {
      "text/html": [
       "<div>\n",
       "<style scoped>\n",
       "    .dataframe tbody tr th:only-of-type {\n",
       "        vertical-align: middle;\n",
       "    }\n",
       "\n",
       "    .dataframe tbody tr th {\n",
       "        vertical-align: top;\n",
       "    }\n",
       "\n",
       "    .dataframe thead th {\n",
       "        text-align: right;\n",
       "    }\n",
       "</style>\n",
       "<table border=\"1\" class=\"dataframe\">\n",
       "  <thead>\n",
       "    <tr style=\"text-align: right;\">\n",
       "      <th></th>\n",
       "      <th>system</th>\n",
       "      <th>cpu</th>\n",
       "      <th>steps</th>\n",
       "    </tr>\n",
       "  </thead>\n",
       "  <tbody>\n",
       "    <tr>\n",
       "      <th>0</th>\n",
       "      <td>system_1</td>\n",
       "      <td>141.44</td>\n",
       "      <td>3.0</td>\n",
       "    </tr>\n",
       "    <tr>\n",
       "      <th>1</th>\n",
       "      <td>system_2</td>\n",
       "      <td>224.19</td>\n",
       "      <td>3.0</td>\n",
       "    </tr>\n",
       "    <tr>\n",
       "      <th>2</th>\n",
       "      <td>system_3</td>\n",
       "      <td>162.13</td>\n",
       "      <td>3.0</td>\n",
       "    </tr>\n",
       "    <tr>\n",
       "      <th>3</th>\n",
       "      <td>system_4</td>\n",
       "      <td>162.13</td>\n",
       "      <td>3.0</td>\n",
       "    </tr>\n",
       "    <tr>\n",
       "      <th>4</th>\n",
       "      <td>system_5</td>\n",
       "      <td>127.65</td>\n",
       "      <td>3.0</td>\n",
       "    </tr>\n",
       "  </tbody>\n",
       "</table>\n",
       "</div>"
      ],
      "text/plain": [
       "     system     cpu  steps\n",
       "0  system_1  141.44    3.0\n",
       "1  system_2  224.19    3.0\n",
       "2  system_3  162.13    3.0\n",
       "3  system_4  162.13    3.0\n",
       "4  system_5  127.65    3.0"
      ]
     },
     "execution_count": 8,
     "metadata": {},
     "output_type": "execute_result"
    }
   ],
   "source": [
    "df_mobo.head()"
   ]
  },
  {
   "cell_type": "code",
   "execution_count": 9,
   "metadata": {},
   "outputs": [
    {
     "name": "stdout",
     "output_type": "stream",
     "text": [
      "0 caces mobo is better total is  152\n",
      "on average MOBO uses 74% more CPU shares to meet the SLAs\n"
     ]
    }
   ],
   "source": [
    "mobo_is_cheaper = []\n",
    "diffs = []\n",
    "systems = df_mobo.system.values\n",
    "for system in systems:\n",
    "    mobo_cpu = df_mobo[df_mobo.system == system].cpu.values[0]\n",
    "    bnv2_4_cpu = df_bnv2_4[df_bnv2_4.system == system].max_total_core.values[0]\n",
    "    if mobo_cpu < bnv2_4_cpu:\n",
    "        mobo_is_cheaper.append(system)\n",
    "    diffs.append((mobo_cpu - bnv2_4_cpu) / (bnv2_4_cpu))\n",
    "print(len(mobo_is_cheaper),'caces mobo is better', 'total is ', len(systems))\n",
    "print('on average MOBO uses',str(int(np.round(np.mean(diffs) * 100))) + '%','more CPU shares to meet the SLAs')"
   ]
  },
  {
   "cell_type": "code",
   "execution_count": null,
   "metadata": {},
   "outputs": [],
   "source": []
  }
 ],
 "metadata": {
  "kernelspec": {
   "display_name": "Python 3",
   "language": "python",
   "name": "python3"
  },
  "language_info": {
   "codemirror_mode": {
    "name": "ipython",
    "version": 3
   },
   "file_extension": ".py",
   "mimetype": "text/x-python",
   "name": "python",
   "nbconvert_exporter": "python",
   "pygments_lexer": "ipython3",
   "version": "3.6.7"
  },
  "varInspector": {
   "cols": {
    "lenName": 16,
    "lenType": 16,
    "lenVar": 40
   },
   "kernels_config": {
    "python": {
     "delete_cmd_postfix": "",
     "delete_cmd_prefix": "del ",
     "library": "var_list.py",
     "varRefreshCmd": "print(var_dic_list())"
    },
    "r": {
     "delete_cmd_postfix": ") ",
     "delete_cmd_prefix": "rm(",
     "library": "var_list.r",
     "varRefreshCmd": "cat(var_dic_list()) "
    }
   },
   "types_to_exclude": [
    "module",
    "function",
    "builtin_function_or_method",
    "instance",
    "_Feature"
   ],
   "window_display": false
  }
 },
 "nbformat": 4,
 "nbformat_minor": 4
}
