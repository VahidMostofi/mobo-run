{
 "cells": [
  {
   "cell_type": "code",
   "execution_count": null,
   "metadata": {},
   "outputs": [],
   "source": [
    "import pandas as pd\n",
    "import numpy as np\n",
    "from os.path import expanduser\n",
    "import warnings\n",
    "warnings.filterwarnings(\"ignore\")\n",
    "import os"
   ]
  },
  {
   "cell_type": "code",
   "execution_count": null,
   "metadata": {},
   "outputs": [],
   "source": [
    "temp = {\n",
    "    'system' :[],\n",
    "    'cpu': [],\n",
    "    'steps': []\n",
    "}\n",
    "home = expanduser(\"~\")\n",
    "df = pd.read_csv('./model-results-2x-not-that-late-1x-33p.csv')\n",
    "\n",
    "for system_id in range(300):\n",
    "    system_id += 1\n",
    "    system_id = str(system_id)\n",
    "    \n",
    "    core_count = df[df.approach == 'BNV2-4.0'][df.system == 'system_' + system_id].max_total_core.values[0] * 2\n",
    "    n_iter = df[df.approach == 'BNV2-4.0'][df.system == 'system_' + system_id].steps.values[0]\n",
    "    \n",
    "    if not os.path.exists('./results/'+system_id+'.txt'): continue\n",
    "    \n",
    "    with open('./results/'+system_id+'.txt') as f:\n",
    "        lines = f.read().split('\\n')\n",
    "        lines = [line for line in lines if len(line.strip()) > 0]\n",
    "        lines = [line for line in lines if 'info' not in line]\n",
    "    \n",
    "    initial_samples = 5\n",
    "    if n_iter + initial_samples > len(lines):\n",
    "        continue\n",
    "    temp['system'].append('system_' + system_id)\n",
    "#     print(system_id)\n",
    "    cpu = 1e10\n",
    "    step = 1e10\n",
    "    for iter_id, line in enumerate(lines):\n",
    "        meets = line.split(' ')[1] == 'True'\n",
    "        total = np.round(float(line.split(' ')[2]),2)\n",
    "#         print(meets, total)\n",
    "        if meets == False: \n",
    "            continue\n",
    "        \n",
    "        if cpu > total:\n",
    "#             print('updated', cpu, step)\n",
    "            cpu = total\n",
    "            step = iter_id + 1\n",
    "#     print()\n",
    "    temp['cpu'].append(cpu)\n",
    "    temp['steps'].append(step)\n",
    "df_mobo = pd.DataFrame(temp)\n",
    "df_mobo"
   ]
  },
  {
   "cell_type": "code",
   "execution_count": null,
   "metadata": {},
   "outputs": [],
   "source": [
    "df_bnv2_4 = df[df.approach == 'BNV2-4.0']"
   ]
  },
  {
   "cell_type": "code",
   "execution_count": null,
   "metadata": {},
   "outputs": [],
   "source": [
    "df_bnv2_4.head()"
   ]
  },
  {
   "cell_type": "code",
   "execution_count": null,
   "metadata": {},
   "outputs": [],
   "source": [
    "df_mobo.head()"
   ]
  },
  {
   "cell_type": "code",
   "execution_count": null,
   "metadata": {},
   "outputs": [],
   "source": [
    "mobo_is_cheaper = []\n",
    "diffs = []\n",
    "systems = df_mobo.system.values\n",
    "for system in systems:\n",
    "    mobo_cpu = df_mobo[df_mobo.system == system].cpu.values[0]\n",
    "    bnv2_4_cpu = df_bnv2_4[df_bnv2_4.system == system].max_total_core.values[0]\n",
    "    if mobo_cpu < bnv2_4_cpu:\n",
    "        mobo_is_cheaper.append(system)\n",
    "    diffs.append((mobo_cpu - bnv2_4_cpu) / (bnv2_4_cpu))\n",
    "print(len(mobo_is_cheaper),'caces mobo is better')\n",
    "print('on average MOBO uses',str(int(np.round(np.mean(diffs) * 100))) + '%','more CPU shares to meet the SLAs')"
   ]
  },
  {
   "cell_type": "code",
   "execution_count": null,
   "metadata": {},
   "outputs": [],
   "source": []
  }
 ],
 "metadata": {
  "kernelspec": {
   "display_name": "Python 3",
   "language": "python",
   "name": "python3"
  },
  "language_info": {
   "codemirror_mode": {
    "name": "ipython",
    "version": 3
   },
   "file_extension": ".py",
   "mimetype": "text/x-python",
   "name": "python",
   "nbconvert_exporter": "python",
   "pygments_lexer": "ipython3",
   "version": "3.6.7"
  },
  "varInspector": {
   "cols": {
    "lenName": 16,
    "lenType": 16,
    "lenVar": 40
   },
   "kernels_config": {
    "python": {
     "delete_cmd_postfix": "",
     "delete_cmd_prefix": "del ",
     "library": "var_list.py",
     "varRefreshCmd": "print(var_dic_list())"
    },
    "r": {
     "delete_cmd_postfix": ") ",
     "delete_cmd_prefix": "rm(",
     "library": "var_list.r",
     "varRefreshCmd": "cat(var_dic_list()) "
    }
   },
   "types_to_exclude": [
    "module",
    "function",
    "builtin_function_or_method",
    "instance",
    "_Feature"
   ],
   "window_display": false
  }
 },
 "nbformat": 4,
 "nbformat_minor": 4
}
